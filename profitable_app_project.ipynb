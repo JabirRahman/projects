{
 "cells": [
  {
   "cell_type": "markdown",
   "metadata": {},
   "source": [
    "# Profitable Apps: A study on Marketplace and App Store Data"
   ]
  },
  {
   "cell_type": "markdown",
   "metadata": {},
   "source": [
    "In this project, we look into app profiles that are expected to be profitable using data from App store and Google Play. There are more than 3.4 M apps available on Google Play while this number lies around 2.2 M for Apple App Store. The findings of this project will guide mobile app developers in the company to get insights on the market and further help them understand the types of apps users are more interested in. So, they can focus on developing similar apps in the future."
   ]
  },
  {
   "cell_type": "code",
   "execution_count": 3,
   "metadata": {},
   "outputs": [],
   "source": [
    "from csv import reader\n",
    "\n",
    "# let's read the App Store data \n",
    "appstoredata = open('AppleStore.csv')\n",
    "read_file = reader(appstoredata)\n",
    "\n",
    "ios_data = list(read_file)\n",
    "header_ios_data = ios_data[0]\n",
    "ios_data = ios_data[1:]\n",
    "\n",
    "# and Google Play store data\n",
    "appstoredata = open('googleplaystore.csv')\n",
    "read_file2 = reader(appstoredata)\n",
    "\n",
    "android_data = list(read_file2)\n",
    "header_android_data = android_data[0]\n",
    "android_data = android_data[1:]"
   ]
  },
  {
   "cell_type": "code",
   "execution_count": 4,
   "metadata": {},
   "outputs": [],
   "source": [
    "# The following function is to help explore the csv dataset to print rows in \n",
    "# a readable way\n",
    "\n",
    "def explore_data(dataset, start, end, rows_and_columns=False):\n",
    "    dataset_slice = dataset[start:end]    \n",
    "    for row in dataset_slice:\n",
    "        print(row)\n",
    "        print('\\n') # adds a new (empty) line after each row\n",
    "\n",
    "    if rows_and_columns:\n",
    "        print('Number of rows:', len(dataset))\n",
    "        print('Number of columns:', len(dataset[0]))\n"
   ]
  },
  {
   "cell_type": "code",
   "execution_count": 5,
   "metadata": {},
   "outputs": [
    {
     "name": "stdout",
     "output_type": "stream",
     "text": [
      "['id', 'track_name', 'size_bytes', 'currency', 'price', 'rating_count_tot', 'rating_count_ver', 'user_rating', 'user_rating_ver', 'ver', 'cont_rating', 'prime_genre', 'sup_devices.num', 'ipadSc_urls.num', 'lang.num', 'vpp_lic']\n",
      "\n",
      "\n",
      "['284882215', 'Facebook', '389879808', 'USD', '0.0', '2974676', '212', '3.5', '3.5', '95.0', '4+', 'Social Networking', '37', '1', '29', '1']\n",
      "\n",
      "\n",
      "['389801252', 'Instagram', '113954816', 'USD', '0.0', '2161558', '1289', '4.5', '4.0', '10.23', '12+', 'Photo & Video', '37', '0', '29', '1']\n",
      "\n",
      "\n",
      "['529479190', 'Clash of Clans', '116476928', 'USD', '0.0', '2130805', '579', '4.5', '4.5', '9.24.12', '9+', 'Games', '38', '5', '18', '1']\n",
      "\n",
      "\n",
      "['420009108', 'Temple Run', '65921024', 'USD', '0.0', '1724546', '3842', '4.5', '4.0', '1.6.2', '9+', 'Games', '40', '5', '1', '1']\n",
      "\n",
      "\n",
      "Number of rows: 7197\n",
      "Number of columns: 16\n"
     ]
    }
   ],
   "source": [
    "# Let's print the name of the data columns we have and explore the Apple Appstoredata\n",
    "print(header_ios_data)\n",
    "print('\\n')\n",
    "explore_data(ios_data, 0, 4, rows_and_columns=True)"
   ]
  },
  {
   "cell_type": "code",
   "execution_count": 6,
   "metadata": {},
   "outputs": [
    {
     "name": "stdout",
     "output_type": "stream",
     "text": [
      "['App', 'Category', 'Rating', 'Reviews', 'Size', 'Installs', 'Type', 'Price', 'Content Rating', 'Genres', 'Last Updated', 'Current Ver', 'Android Ver']\n",
      "\n",
      "\n",
      "['Photo Editor & Candy Camera & Grid & ScrapBook', 'ART_AND_DESIGN', '4.1', '159', '19M', '10,000+', 'Free', '0', 'Everyone', 'Art & Design', 'January 7, 2018', '1.0.0', '4.0.3 and up']\n",
      "\n",
      "\n",
      "['Coloring book moana', 'ART_AND_DESIGN', '3.9', '967', '14M', '500,000+', 'Free', '0', 'Everyone', 'Art & Design;Pretend Play', 'January 15, 2018', '2.0.0', '4.0.3 and up']\n",
      "\n",
      "\n",
      "['U Launcher Lite – FREE Live Cool Themes, Hide Apps', 'ART_AND_DESIGN', '4.7', '87510', '8.7M', '5,000,000+', 'Free', '0', 'Everyone', 'Art & Design', 'August 1, 2018', '1.2.4', '4.0.3 and up']\n",
      "\n",
      "\n",
      "['Sketch - Draw & Paint', 'ART_AND_DESIGN', '4.5', '215644', '25M', '50,000,000+', 'Free', '0', 'Teen', 'Art & Design', 'June 8, 2018', 'Varies with device', '4.2 and up']\n",
      "\n",
      "\n",
      "Number of rows: 10841\n",
      "Number of columns: 13\n"
     ]
    }
   ],
   "source": [
    " # Let's print the name of the data columns we have and explore the data\n",
    "print(header_android_data)\n",
    "print('\\n')\n",
    "explore_data(android_data, 0, 4, rows_and_columns=True)"
   ]
  },
  {
   "cell_type": "markdown",
   "metadata": {},
   "source": [
    "This datafile has been collected from different Kaggle sources. If you are interested in downloading the data or to know more about what a column represents, please visit the following links.\n",
    "\n",
    "Apple App Store Data --> [Data Link](https://www.kaggle.com/ramamet4/app-store-apple-data-set-10k-apps/home)\n",
    "\n",
    "Google Play Store Data --> [Data Link](https://www.kaggle.com/lava18/google-play-store-apps)"
   ]
  },
  {
   "cell_type": "code",
   "execution_count": 7,
   "metadata": {},
   "outputs": [
    {
     "name": "stdout",
     "output_type": "stream",
     "text": [
      "['App', 'Category', 'Rating', 'Reviews', 'Size', 'Installs', 'Type', 'Price', 'Content Rating', 'Genres', 'Last Updated', 'Current Ver', 'Android Ver']\n",
      "\n",
      "\n",
      "['Life Made WI-Fi Touchscreen Photo Frame', '1.9', '19', '3.0M', '1,000+', 'Free', '0', 'Everyone', '', 'February 11, 2018', '1.0.19', '4.0 and up']\n",
      "12\n"
     ]
    }
   ],
   "source": [
    "incorrect_android_data = android_data[10472]\n",
    "print(header_android_data)\n",
    "print('\\n')\n",
    "print(incorrect_android_data)\n",
    "print(len(incorrect_android_data))"
   ]
  },
  {
   "cell_type": "markdown",
   "metadata": {},
   "source": [
    "From the following discussion section --> [Link](https://www.kaggle.com/lava18/google-play-store-apps/discussion), we see that row number 10472 that corresponds to 'Life Made WI-Fi Touchscreen Photo Frame' app has 12 columns inputs, and missing data for the 'Category' column.\n",
    "Moreover, it shifted the remaining columns to the left by one step. So, we'll remove that row from the data file."
   ]
  },
  {
   "cell_type": "code",
   "execution_count": 8,
   "metadata": {},
   "outputs": [],
   "source": [
    "del android_data[10472] # running this more than once will delete new rows that should not \n",
    "                        # have been deleted"
   ]
  },
  {
   "cell_type": "code",
   "execution_count": 9,
   "metadata": {},
   "outputs": [
    {
     "name": "stdout",
     "output_type": "stream",
     "text": [
      "10840\n"
     ]
    }
   ],
   "source": [
    "# Let's check the row numbers for Google Play data to ensure that the corrupted row has been deleted\n",
    "print(len(android_data))"
   ]
  },
  {
   "cell_type": "markdown",
   "metadata": {},
   "source": [
    "The discussion section further indicates that there are multiple entries for some apps. For example,  'Instagram' app has multiple entries."
   ]
  },
  {
   "cell_type": "code",
   "execution_count": 10,
   "metadata": {},
   "outputs": [
    {
     "name": "stdout",
     "output_type": "stream",
     "text": [
      "2545\n",
      "['Instagram', 'SOCIAL', '4.5', '66577313', 'Varies with device', '1,000,000,000+', 'Free', '0', 'Teen', 'Social', 'July 31, 2018', 'Varies with device', 'Varies with device']\n",
      "\n",
      "\n",
      "2604\n",
      "['Instagram', 'SOCIAL', '4.5', '66577446', 'Varies with device', '1,000,000,000+', 'Free', '0', 'Teen', 'Social', 'July 31, 2018', 'Varies with device', 'Varies with device']\n",
      "\n",
      "\n",
      "2545\n",
      "['Instagram', 'SOCIAL', '4.5', '66577313', 'Varies with device', '1,000,000,000+', 'Free', '0', 'Teen', 'Social', 'July 31, 2018', 'Varies with device', 'Varies with device']\n",
      "\n",
      "\n",
      "3909\n",
      "['Instagram', 'SOCIAL', '4.5', '66509917', 'Varies with device', '1,000,000,000+', 'Free', '0', 'Teen', 'Social', 'July 31, 2018', 'Varies with device', 'Varies with device']\n",
      "\n",
      "\n"
     ]
    }
   ],
   "source": [
    "# Let's check the number of times we have the 'Instagram' data and their respective row numbers\n",
    "for app in android_data:\n",
    "    if app[0] == 'Instagram':\n",
    "        print(android_data.index(app)) # the respective row number\n",
    "        print(app)\n",
    "        print('\\n')\n",
    "        "
   ]
  },
  {
   "cell_type": "markdown",
   "metadata": {},
   "source": [
    "The discussion further indicates that there are some Apps that have been listed more than once in the dataset. Let's find all of those out.\n"
   ]
  },
  {
   "cell_type": "code",
   "execution_count": 11,
   "metadata": {},
   "outputs": [
    {
     "name": "stdout",
     "output_type": "stream",
     "text": [
      "Number of duplicate apps in the android dataset =  1181\n",
      "\n",
      "\n",
      "Number of unique apps in the android dataset =  9659\n"
     ]
    }
   ],
   "source": [
    "duplicate_android_apps = []\n",
    "unique_android_apps = [] # initiate two empty lists\n",
    "\n",
    "for app in android_data:\n",
    "    if app[0] in unique_android_apps:\n",
    "        duplicate_android_apps.append(app[0]) # if already in the list, add the app to the duplicate list\n",
    "    else:\n",
    "        unique_android_apps.append(app[0]) # if not in the list, keep a track of that app\n",
    "\n",
    "# Now let's check the number of apps that have multiple entries\n",
    "print('Number of duplicate apps in the android dataset = ', len(duplicate_android_apps))\n",
    "print('\\n')\n",
    "print('Number of unique apps in the android dataset = ', len(unique_android_apps))"
   ]
  },
  {
   "cell_type": "code",
   "execution_count": 12,
   "metadata": {},
   "outputs": [
    {
     "name": "stdout",
     "output_type": "stream",
     "text": [
      "Number of duplicate apps in the ios dataset =  0\n",
      "\n",
      "\n",
      "Number of unique apps in the ios dataset =  7197\n"
     ]
    }
   ],
   "source": [
    "# let's apply the same procedure for the iOS data set\n",
    "duplicate_ios_apps = []\n",
    "unique_ios_apps = [] # initiate two empty lists\n",
    "\n",
    "for app in ios_data:\n",
    "    if app[0] in unique_ios_apps:\n",
    "        duplicate_ios_apps.append(app[0]) # if already in the list, add the app to the duplicate list\n",
    "    else:\n",
    "        unique_ios_apps.append(app[0]) # if not in the list, keep a track of that app\n",
    "\n",
    "# Now let's check the number of apps that have multiple entries\n",
    "print('Number of duplicate apps in the ios dataset = ', len(duplicate_ios_apps))\n",
    "print('\\n')\n",
    "print('Number of unique apps in the ios dataset = ', len(unique_ios_apps))"
   ]
  },
  {
   "cell_type": "markdown",
   "metadata": {},
   "source": [
    "Investigating the duplicated rows for different apps shows that the duplicated entry happened because of an update on the 'review' instance. Because, the higher the review, the newer the entry is, we'll keep the entry that has the highest number of reviews in the following section.  "
   ]
  },
  {
   "cell_type": "code",
   "execution_count": 13,
   "metadata": {},
   "outputs": [
    {
     "name": "stdout",
     "output_type": "stream",
     "text": [
      "\n",
      "\n",
      "9659\n"
     ]
    }
   ],
   "source": [
    "# Let's create a dictionary where the key is the app's name and value is the app's review\n",
    "corrupted_android_data = android_data[:]\n",
    "\n",
    "android_dictionary = {} # start with an empty dictionary\n",
    "for app in corrupted_android_data: # loop through the data file with all apps data (including duplicates)\n",
    "    app_name = app[0]\n",
    "    app_review = float(app[3])\n",
    "    if app_name in android_dictionary and app_review > android_dictionary[app_name]:\n",
    "        android_dictionary[app_name] = app_review\n",
    "    elif app_name not in android_dictionary:\n",
    "        android_dictionary[app_name] = app_review    \n",
    "# let's check if we got our 9659 rows without any duplicates\n",
    "print('\\n')\n",
    "print(len(android_dictionary))"
   ]
  },
  {
   "cell_type": "markdown",
   "metadata": {},
   "source": [
    "In the following section, we will use the previously generated dictionary 'android_dictionary' that contains the app's name and reviews (max), to update our original dataset. We'll keep the app version that has the maximum reviews by comparing it with android_dictionary.\n",
    "\n",
    "We further need to keep track of the apps that have been added already so we don't add apps that have same number of reviews."
   ]
  },
  {
   "cell_type": "code",
   "execution_count": 14,
   "metadata": {},
   "outputs": [
    {
     "name": "stdout",
     "output_type": "stream",
     "text": [
      "\n",
      "\n",
      "Number of unique rows in the dataset:  9659\n"
     ]
    }
   ],
   "source": [
    "# Now let's update our original data file using the newly created dictionary\n",
    "clean_android_data = []\n",
    "already_added = []\n",
    "\n",
    "for app in corrupted_android_data: # loop through the data file with all apps data (including duplicates)\n",
    "    app_name = app[0]\n",
    "    app_review = float(app[3])\n",
    "    if (app_review == android_dictionary[app_name]) and (app_name not in already_added):        \n",
    "        clean_android_data.append(app)\n",
    "        already_added.append(app_name)\n",
    "# let's check the number of rows in the cleaned data set to make sure we have all the unique rows\n",
    "print('\\n')\n",
    "print('Number of unique rows in the dataset: ', len(clean_android_data))"
   ]
  },
  {
   "cell_type": "code",
   "execution_count": 15,
   "metadata": {},
   "outputs": [
    {
     "name": "stdout",
     "output_type": "stream",
     "text": [
      "['Photo Editor & Candy Camera & Grid & ScrapBook', 'ART_AND_DESIGN', '4.1', '159', '19M', '10,000+', 'Free', '0', 'Everyone', 'Art & Design', 'January 7, 2018', '1.0.0', '4.0.3 and up']\n",
      "\n",
      "\n",
      "['U Launcher Lite – FREE Live Cool Themes, Hide Apps', 'ART_AND_DESIGN', '4.7', '87510', '8.7M', '5,000,000+', 'Free', '0', 'Everyone', 'Art & Design', 'August 1, 2018', '1.2.4', '4.0.3 and up']\n",
      "\n",
      "\n",
      "['Sketch - Draw & Paint', 'ART_AND_DESIGN', '4.5', '215644', '25M', '50,000,000+', 'Free', '0', 'Teen', 'Art & Design', 'June 8, 2018', 'Varies with device', '4.2 and up']\n",
      "\n",
      "\n",
      "Number of rows: 9659\n",
      "Number of columns: 13\n"
     ]
    }
   ],
   "source": [
    "# let's explore the dataset quickly\n",
    "explore_data(clean_android_data, 0, 3, True)"
   ]
  },
  {
   "cell_type": "markdown",
   "metadata": {},
   "source": [
    "Now we will check for apps that don't use English as a language. for this, we'll be using the numbers curresponding to characters (according to ASCII). The number for English characters ranges from 0 to 127. We develop a function that will help us determine if a character belongs to the set of common English character or not."
   ]
  },
  {
   "cell_type": "code",
   "execution_count": 16,
   "metadata": {},
   "outputs": [
    {
     "name": "stdout",
     "output_type": "stream",
     "text": [
      "爱奇艺PPS -《欢乐颂2》电视剧热播\n",
      "【脱出ゲーム】絶対に最後までプレイしないで 〜謎解き＆ブロックパズル〜\n",
      "\n",
      "\n",
      "中国語 AQリスニング\n",
      "لعبة تقدر تربح DZ\n"
     ]
    }
   ],
   "source": [
    "# example of some non-English apps\n",
    "print(ios_data[813][1]) # from iOS data file\n",
    "print(ios_data[6731][1])\n",
    "\n",
    "print('\\n')\n",
    "print(clean_android_data[4412][0]) # from android data file\n",
    "print(clean_android_data[7940][0])"
   ]
  },
  {
   "cell_type": "code",
   "execution_count": 17,
   "metadata": {},
   "outputs": [
    {
     "name": "stdout",
     "output_type": "stream",
     "text": [
      "Total number of apps =  542\n"
     ]
    }
   ],
   "source": [
    "# The following function is to help detect if a character from an app's name is from non-english \n",
    "# language\n",
    "\n",
    "def detectEnglish(a_string):\n",
    "    ''' input: a string\n",
    "    output: Boolean, True if belongs to english, False otherwise\n",
    "    '''\n",
    "    for character in a_string:\n",
    "        if ord(character) > 127:\n",
    "            return False\n",
    "    return True\n",
    "\n",
    "# Now, let's try it on our android data file\n",
    "numberOFapps = 0\n",
    "for app in clean_android_data:\n",
    "    if detectEnglish(app[0]) == False:\n",
    "        numberOFapps+= 1\n",
    "print('Total number of apps = ', numberOFapps)"
   ]
  },
  {
   "cell_type": "markdown",
   "metadata": {},
   "source": [
    "It seems like the function will remove many apps from our dataset. So, we will be removing apps that have in their names at least three non-ASCII characters "
   ]
  },
  {
   "cell_type": "code",
   "execution_count": 18,
   "metadata": {},
   "outputs": [],
   "source": [
    "# let's re-write this function so it detects a name as non-english if the name contains at least 3\n",
    "# non-ASCII characters\n",
    "\n",
    "def detectEnglish(a_string):\n",
    "    ''' input: a string\n",
    "    output: Boolean, True if belongs to english, False otherwise\n",
    "    '''\n",
    "    non_ascii = 0\n",
    "    for character in a_string:\n",
    "        if ord(character) > 127:\n",
    "            non_ascii+= 1\n",
    "            \n",
    "    if non_ascii > 3:\n",
    "        return False\n",
    "    else:\n",
    "        return True"
   ]
  },
  {
   "cell_type": "code",
   "execution_count": 19,
   "metadata": {},
   "outputs": [
    {
     "name": "stdout",
     "output_type": "stream",
     "text": [
      "Total English Android Apps=  9614\n",
      "\n",
      "\n",
      "Total English iOS Apps=  6183\n"
     ]
    }
   ],
   "source": [
    "# Now, let's clean our both data sets and remove non-English apps\n",
    "android_english_apps = []\n",
    "ios_english_apps = []\n",
    "\n",
    "for app in clean_android_data: # for android data set\n",
    "    if detectEnglish(app[0]):\n",
    "        android_english_apps.append(app)\n",
    "\n",
    "for app in ios_data: # for ios data set\n",
    "    if detectEnglish(app[1]): # be-careful of the index number for apps name in the ios dataset\n",
    "        ios_english_apps.append(app)        \n",
    "        \n",
    "print('Total English Android Apps= ', len(android_english_apps))\n",
    "print('\\n')\n",
    "print('Total English iOS Apps= ', len(ios_english_apps))"
   ]
  },
  {
   "cell_type": "code",
   "execution_count": 20,
   "metadata": {},
   "outputs": [
    {
     "name": "stdout",
     "output_type": "stream",
     "text": [
      "Refined Android Data\n",
      "\n",
      "\n",
      "['Photo Editor & Candy Camera & Grid & ScrapBook', 'ART_AND_DESIGN', '4.1', '159', '19M', '10,000+', 'Free', '0', 'Everyone', 'Art & Design', 'January 7, 2018', '1.0.0', '4.0.3 and up']\n",
      "\n",
      "\n",
      "['U Launcher Lite – FREE Live Cool Themes, Hide Apps', 'ART_AND_DESIGN', '4.7', '87510', '8.7M', '5,000,000+', 'Free', '0', 'Everyone', 'Art & Design', 'August 1, 2018', '1.2.4', '4.0.3 and up']\n",
      "\n",
      "\n",
      "['Sketch - Draw & Paint', 'ART_AND_DESIGN', '4.5', '215644', '25M', '50,000,000+', 'Free', '0', 'Teen', 'Art & Design', 'June 8, 2018', 'Varies with device', '4.2 and up']\n",
      "\n",
      "\n",
      "Number of rows: 9614\n",
      "Number of columns: 13\n",
      "\n",
      "\n",
      "*******************************************************************************************\n",
      "\n",
      "Refined iOS Data\n",
      "\n",
      "\n",
      "['284882215', 'Facebook', '389879808', 'USD', '0.0', '2974676', '212', '3.5', '3.5', '95.0', '4+', 'Social Networking', '37', '1', '29', '1']\n",
      "\n",
      "\n",
      "['389801252', 'Instagram', '113954816', 'USD', '0.0', '2161558', '1289', '4.5', '4.0', '10.23', '12+', 'Photo & Video', '37', '0', '29', '1']\n",
      "\n",
      "\n",
      "['529479190', 'Clash of Clans', '116476928', 'USD', '0.0', '2130805', '579', '4.5', '4.5', '9.24.12', '9+', 'Games', '38', '5', '18', '1']\n",
      "\n",
      "\n",
      "Number of rows: 6183\n",
      "Number of columns: 16\n"
     ]
    }
   ],
   "source": [
    "# Let's explored the refined data again\n",
    "print('Refined Android Data')\n",
    "print('\\n')\n",
    "explore_data(android_english_apps, 0, 3, True)\n",
    "print('\\n')\n",
    "print('*******************************************************************************************\\n')\n",
    "print('Refined iOS Data')\n",
    "print('\\n')\n",
    "explore_data(ios_english_apps, 0, 3, True)"
   ]
  },
  {
   "cell_type": "markdown",
   "metadata": {},
   "source": [
    "Because we are only looking for apps that are free of cost, we'll remove apps that cost money in the following section. Mind that, for the android app dataset, the information about the price has the index = 7; and for iOS it's = 4"
   ]
  },
  {
   "cell_type": "code",
   "execution_count": 21,
   "metadata": {},
   "outputs": [
    {
     "name": "stdout",
     "output_type": "stream",
     "text": [
      "['App', 'Category', 'Rating', 'Reviews', 'Size', 'Installs', 'Type', 'Price', 'Content Rating', 'Genres', 'Last Updated', 'Current Ver', 'Android Ver']\n",
      "\n",
      "\n",
      "['id', 'track_name', 'size_bytes', 'currency', 'price', 'rating_count_tot', 'rating_count_ver', 'user_rating', 'user_rating_ver', 'ver', 'cont_rating', 'prime_genre', 'sup_devices.num', 'ipadSc_urls.num', 'lang.num', 'vpp_lic']\n"
     ]
    }
   ],
   "source": [
    "print(header_android_data)\n",
    "print('\\n')\n",
    "print(header_ios_data)"
   ]
  },
  {
   "cell_type": "code",
   "execution_count": 22,
   "metadata": {},
   "outputs": [
    {
     "name": "stdout",
     "output_type": "stream",
     "text": [
      "['Photo Editor & Candy Camera & Grid & ScrapBook', 'ART_AND_DESIGN', '4.1', '159', '19M', '10,000+', 'Free', '0', 'Everyone', 'Art & Design', 'January 7, 2018', '1.0.0', '4.0.3 and up']\n",
      "\n",
      "\n",
      "['U Launcher Lite – FREE Live Cool Themes, Hide Apps', 'ART_AND_DESIGN', '4.7', '87510', '8.7M', '5,000,000+', 'Free', '0', 'Everyone', 'Art & Design', 'August 1, 2018', '1.2.4', '4.0.3 and up']\n",
      "\n",
      "\n",
      "['Sketch - Draw & Paint', 'ART_AND_DESIGN', '4.5', '215644', '25M', '50,000,000+', 'Free', '0', 'Teen', 'Art & Design', 'June 8, 2018', 'Varies with device', '4.2 and up']\n",
      "\n",
      "\n",
      "Number of rows: 8864\n",
      "Number of columns: 13\n",
      "\n",
      "\n",
      "['284882215', 'Facebook', '389879808', 'USD', '0.0', '2974676', '212', '3.5', '3.5', '95.0', '4+', 'Social Networking', '37', '1', '29', '1']\n",
      "\n",
      "\n",
      "['389801252', 'Instagram', '113954816', 'USD', '0.0', '2161558', '1289', '4.5', '4.0', '10.23', '12+', 'Photo & Video', '37', '0', '29', '1']\n",
      "\n",
      "\n",
      "['529479190', 'Clash of Clans', '116476928', 'USD', '0.0', '2130805', '579', '4.5', '4.5', '9.24.12', '9+', 'Games', '38', '5', '18', '1']\n",
      "\n",
      "\n",
      "Number of rows: 3222\n",
      "Number of columns: 16\n"
     ]
    }
   ],
   "source": [
    "# Let's write a loop that will return True if an app is free\n",
    "# set up two initial lists for both datasets\n",
    "final_android = []\n",
    "final_ios = []\n",
    "\n",
    "for app in android_english_apps:\n",
    "    if app[7] == '0':\n",
    "        final_android.append(app)\n",
    "\n",
    "for app in ios_english_apps:\n",
    "    if app[4] == '0.0':\n",
    "        final_ios.append(app)\n",
    "\n",
    "# print out and check the final data files\n",
    "explore_data(final_android, 0, 3, True)\n",
    "print('\\n')\n",
    "explore_data(final_ios, 0, 3, True)"
   ]
  },
  {
   "cell_type": "markdown",
   "metadata": {},
   "source": [
    "Our further analysis to find a profitable app is based on the assumption that developers usually pre-build a small version of an app and upload it to Google Play Store. If that can attract users, they update it further and later develop a second version for the Apple Store. So, we need apps that are available in both stores. Let's start with finding out the popular genres in our dataset.\n",
    "\n",
    "Now, we'll develop two functions that will help us analyze the frequency tables-\n",
    "\n",
    "1. One function to generate frequency tables that show percentages\n",
    "2. Another function we can use to display the percentages in a descending order\n",
    "\n",
    "Because, to develop a frequency table, we need a sorted version of our data dictionary. But sorting a dictionary with the built in 'sorted' function is difficult. So, we'll write a function that will perform the following actions-\n",
    "- Takes in two parameters: dataset and index. dataset will be a list of lists, and index will be an integer\n",
    "- Generates a frequency table using the freq_table() function (which you're going to write as an exercise)\n",
    "- Transforms the frequency table into a list of tuples, then sorts the list in a descending order\n",
    "- Prints the entries of the frequency table in descending order"
   ]
  },
  {
   "cell_type": "markdown",
   "metadata": {},
   "source": [
    "We'll build two functions we can use to analyze the frequency tables:\n",
    "\n",
    "1. One function to generate frequency tables that show percentages\n",
    "2. Another function that we can use to display the percentages in a descending order"
   ]
  },
  {
   "cell_type": "code",
   "execution_count": 71,
   "metadata": {},
   "outputs": [],
   "source": [
    "def freq_table(dataset, index):\n",
    "    '''\n",
    "    input: a dataset (list of lists) and an index number (integer)\n",
    "    output: frequncy table as a dictionary\n",
    "    '''\n",
    "    count_dict = {} # initiate the dictionary that we'll return\n",
    "    total = 0\n",
    "    for a_row in dataset:\n",
    "        total+= 1\n",
    "        interested_column = a_row[index]\n",
    "        if interested_column in count_dict:\n",
    "            count_dict[interested_column] += 1\n",
    "        else:\n",
    "            count_dict[interested_column] = 1\n",
    "            \n",
    "    percentage_dict = {} \n",
    "    for a_key in count_dict:\n",
    "        percentage = (count_dict[a_key]/total) * 100 \n",
    "        percentage_dict[a_key] = percentage\n",
    "    \n",
    "    return percentage_dict\n",
    "\n",
    "def display_table(dataset, index):\n",
    "    '''\n",
    "    input:  a dataset and an index number\n",
    "    output: a list of tuples\n",
    "    '''\n",
    "    table = freq_table(dataset, index)\n",
    "    table_display = []\n",
    "    for key in table:\n",
    "        key_val_as_tuple = (table[key], key)\n",
    "        table_display.append(key_val_as_tuple)\n",
    "\n",
    "    table_sorted = sorted(table_display, reverse = True)\n",
    "    for entry in table_sorted:\n",
    "        print(entry[1], ':', entry[0])"
   ]
  },
  {
   "cell_type": "markdown",
   "metadata": {},
   "source": [
    "Now, let's use the functions we generated to display the frequency of three variables- \n",
    "i) prime_genre\n",
    "ii) Genres\n",
    "iii) Category"
   ]
  },
  {
   "cell_type": "code",
   "execution_count": 72,
   "metadata": {},
   "outputs": [
    {
     "name": "stdout",
     "output_type": "stream",
     "text": [
      "Games : 58.16263190564867\n",
      "Entertainment : 7.883302296710118\n",
      "Photo & Video : 4.9658597144630665\n",
      "Education : 3.662321539416512\n",
      "Social Networking : 3.2898820608317814\n",
      "Shopping : 2.60707635009311\n",
      "Utilities : 2.5139664804469275\n",
      "Sports : 2.1415270018621975\n",
      "Music : 2.0484171322160147\n",
      "Health & Fitness : 2.0173805090006205\n",
      "Productivity : 1.7380509000620732\n",
      "Lifestyle : 1.5828677839851024\n",
      "News : 1.3345747982619491\n",
      "Travel : 1.2414649286157666\n",
      "Finance : 1.1173184357541899\n",
      "Weather : 0.8690254500310366\n",
      "Food & Drink : 0.8069522036002483\n",
      "Reference : 0.5586592178770949\n",
      "Business : 0.5276225946617008\n",
      "Book : 0.4345127250155183\n",
      "Navigation : 0.186219739292365\n",
      "Medical : 0.186219739292365\n",
      "Catalogs : 0.12414649286157665\n"
     ]
    }
   ],
   "source": [
    "display_table(final_ios, 11) # 11 = 'prime_genre', data file = ios data file\n"
   ]
  },
  {
   "cell_type": "markdown",
   "metadata": {},
   "source": [
    "Analyzing the iOS data file, we clearly see that the most popular FREE apps in the Apple App Store belongs to the 'Games' category (~ 58%). The next one is for other entertainment (7%) purposes. But the difference between the popularity of Games and other genres are exceptionally high. That indicates that most of the iOS developers are interested in developing Games.\n",
    "\n",
    "But without further analysis, we can't conclude if the users are similarly interested in the 'Games' genre or in some other genres."
   ]
  },
  {
   "cell_type": "code",
   "execution_count": 73,
   "metadata": {},
   "outputs": [
    {
     "name": "stdout",
     "output_type": "stream",
     "text": [
      "Tools : 8.449909747292418\n",
      "Entertainment : 6.069494584837545\n",
      "Education : 5.347472924187725\n",
      "Business : 4.591606498194946\n",
      "Productivity : 3.892148014440433\n",
      "Lifestyle : 3.892148014440433\n",
      "Finance : 3.7003610108303246\n",
      "Medical : 3.531137184115524\n",
      "Sports : 3.463447653429603\n",
      "Personalization : 3.3167870036101084\n",
      "Communication : 3.2378158844765346\n",
      "Action : 3.1024368231046933\n",
      "Health & Fitness : 3.0798736462093865\n",
      "Photography : 2.944494584837545\n",
      "News & Magazines : 2.7978339350180503\n",
      "Social : 2.6624548736462095\n",
      "Travel & Local : 2.3240072202166067\n",
      "Shopping : 2.2450361010830324\n",
      "Books & Reference : 2.1435018050541514\n",
      "Simulation : 2.0419675090252705\n",
      "Dating : 1.861462093862816\n",
      "Arcade : 1.8501805054151623\n",
      "Video Players & Editors : 1.7712093862815883\n",
      "Casual : 1.7599277978339352\n",
      "Maps & Navigation : 1.3989169675090252\n",
      "Food & Drink : 1.2409747292418771\n",
      "Puzzle : 1.128158844765343\n",
      "Racing : 0.9927797833935018\n",
      "Role Playing : 0.9363718411552346\n",
      "Libraries & Demo : 0.9363718411552346\n",
      "Auto & Vehicles : 0.9250902527075812\n",
      "Strategy : 0.9138086642599278\n",
      "House & Home : 0.8235559566787004\n",
      "Weather : 0.8009927797833934\n",
      "Events : 0.7107400722021661\n",
      "Adventure : 0.6768953068592057\n",
      "Comics : 0.6092057761732852\n",
      "Beauty : 0.5979241877256317\n",
      "Art & Design : 0.5979241877256317\n",
      "Parenting : 0.4963898916967509\n",
      "Card : 0.45126353790613716\n",
      "Casino : 0.42870036101083037\n",
      "Trivia : 0.41741877256317694\n",
      "Educational;Education : 0.39485559566787\n",
      "Board : 0.3835740072202166\n",
      "Educational : 0.3722924187725632\n",
      "Education;Education : 0.33844765342960287\n",
      "Word : 0.2594765342960289\n",
      "Casual;Pretend Play : 0.236913357400722\n",
      "Music : 0.2030685920577617\n",
      "Racing;Action & Adventure : 0.16922382671480143\n",
      "Puzzle;Brain Games : 0.16922382671480143\n",
      "Entertainment;Music & Video : 0.16922382671480143\n",
      "Casual;Brain Games : 0.13537906137184114\n",
      "Casual;Action & Adventure : 0.13537906137184114\n",
      "Arcade;Action & Adventure : 0.12409747292418773\n",
      "Action;Action & Adventure : 0.10153429602888085\n",
      "Educational;Pretend Play : 0.09025270758122744\n",
      "Simulation;Action & Adventure : 0.078971119133574\n",
      "Parenting;Education : 0.078971119133574\n",
      "Entertainment;Brain Games : 0.078971119133574\n",
      "Board;Brain Games : 0.078971119133574\n",
      "Parenting;Music & Video : 0.06768953068592057\n",
      "Educational;Brain Games : 0.06768953068592057\n",
      "Casual;Creativity : 0.06768953068592057\n",
      "Art & Design;Creativity : 0.06768953068592057\n",
      "Education;Pretend Play : 0.056407942238267145\n",
      "Role Playing;Pretend Play : 0.04512635379061372\n",
      "Education;Creativity : 0.04512635379061372\n",
      "Role Playing;Action & Adventure : 0.033844765342960284\n",
      "Puzzle;Action & Adventure : 0.033844765342960284\n",
      "Entertainment;Creativity : 0.033844765342960284\n",
      "Entertainment;Action & Adventure : 0.033844765342960284\n",
      "Educational;Creativity : 0.033844765342960284\n",
      "Educational;Action & Adventure : 0.033844765342960284\n",
      "Education;Music & Video : 0.033844765342960284\n",
      "Education;Brain Games : 0.033844765342960284\n",
      "Education;Action & Adventure : 0.033844765342960284\n",
      "Adventure;Action & Adventure : 0.033844765342960284\n",
      "Video Players & Editors;Music & Video : 0.02256317689530686\n",
      "Sports;Action & Adventure : 0.02256317689530686\n",
      "Simulation;Pretend Play : 0.02256317689530686\n",
      "Puzzle;Creativity : 0.02256317689530686\n",
      "Music;Music & Video : 0.02256317689530686\n",
      "Entertainment;Pretend Play : 0.02256317689530686\n",
      "Casual;Education : 0.02256317689530686\n",
      "Board;Action & Adventure : 0.02256317689530686\n",
      "Video Players & Editors;Creativity : 0.01128158844765343\n",
      "Trivia;Education : 0.01128158844765343\n",
      "Travel & Local;Action & Adventure : 0.01128158844765343\n",
      "Tools;Education : 0.01128158844765343\n",
      "Strategy;Education : 0.01128158844765343\n",
      "Strategy;Creativity : 0.01128158844765343\n",
      "Strategy;Action & Adventure : 0.01128158844765343\n",
      "Simulation;Education : 0.01128158844765343\n",
      "Role Playing;Brain Games : 0.01128158844765343\n",
      "Racing;Pretend Play : 0.01128158844765343\n",
      "Puzzle;Education : 0.01128158844765343\n",
      "Parenting;Brain Games : 0.01128158844765343\n",
      "Music & Audio;Music & Video : 0.01128158844765343\n",
      "Lifestyle;Pretend Play : 0.01128158844765343\n",
      "Lifestyle;Education : 0.01128158844765343\n",
      "Health & Fitness;Education : 0.01128158844765343\n",
      "Health & Fitness;Action & Adventure : 0.01128158844765343\n",
      "Entertainment;Education : 0.01128158844765343\n",
      "Communication;Creativity : 0.01128158844765343\n",
      "Comics;Creativity : 0.01128158844765343\n",
      "Casual;Music & Video : 0.01128158844765343\n",
      "Card;Action & Adventure : 0.01128158844765343\n",
      "Books & Reference;Education : 0.01128158844765343\n",
      "Art & Design;Pretend Play : 0.01128158844765343\n",
      "Art & Design;Action & Adventure : 0.01128158844765343\n",
      "Arcade;Pretend Play : 0.01128158844765343\n",
      "Adventure;Education : 0.01128158844765343\n"
     ]
    }
   ],
   "source": [
    "display_table(final_android, 9) # 9 = Genre, data file = android data file"
   ]
  },
  {
   "cell_type": "markdown",
   "metadata": {},
   "source": [
    "Analysis of the android data file shows that the most popular Genre belongs to 'Tools' that's (~8.5%) \n",
    "and 'Entertainment' is next (~6%)."
   ]
  },
  {
   "cell_type": "code",
   "execution_count": 74,
   "metadata": {
    "scrolled": true
   },
   "outputs": [
    {
     "name": "stdout",
     "output_type": "stream",
     "text": [
      "FAMILY : 18.907942238267147\n",
      "GAME : 9.724729241877256\n",
      "TOOLS : 8.461191335740072\n",
      "BUSINESS : 4.591606498194946\n",
      "LIFESTYLE : 3.9034296028880866\n",
      "PRODUCTIVITY : 3.892148014440433\n",
      "FINANCE : 3.7003610108303246\n",
      "MEDICAL : 3.531137184115524\n",
      "SPORTS : 3.395758122743682\n",
      "PERSONALIZATION : 3.3167870036101084\n",
      "COMMUNICATION : 3.2378158844765346\n",
      "HEALTH_AND_FITNESS : 3.0798736462093865\n",
      "PHOTOGRAPHY : 2.944494584837545\n",
      "NEWS_AND_MAGAZINES : 2.7978339350180503\n",
      "SOCIAL : 2.6624548736462095\n",
      "TRAVEL_AND_LOCAL : 2.33528880866426\n",
      "SHOPPING : 2.2450361010830324\n",
      "BOOKS_AND_REFERENCE : 2.1435018050541514\n",
      "DATING : 1.861462093862816\n",
      "VIDEO_PLAYERS : 1.7937725631768955\n",
      "MAPS_AND_NAVIGATION : 1.3989169675090252\n",
      "FOOD_AND_DRINK : 1.2409747292418771\n",
      "EDUCATION : 1.1620036101083033\n",
      "ENTERTAINMENT : 0.9589350180505415\n",
      "LIBRARIES_AND_DEMO : 0.9363718411552346\n",
      "AUTO_AND_VEHICLES : 0.9250902527075812\n",
      "HOUSE_AND_HOME : 0.8235559566787004\n",
      "WEATHER : 0.8009927797833934\n",
      "EVENTS : 0.7107400722021661\n",
      "PARENTING : 0.6543321299638989\n",
      "ART_AND_DESIGN : 0.6430505415162455\n",
      "COMICS : 0.6204873646209386\n",
      "BEAUTY : 0.5979241877256317\n"
     ]
    }
   ],
   "source": [
    "display_table(final_android, 1) # 1 = Category, data file = android data file"
   ]
  },
  {
   "cell_type": "markdown",
   "metadata": {},
   "source": [
    "Our further analysis shows that 'Family' is highly popular in case of android apps.\n",
    "\n",
    "This demonstrates a clear difference between FREE iOS and android apps populariy. While developing apps for 'entertainment' is popular among iOS developers, more practical and family oriented apps are popular in the android dev-ops community.\n",
    "\n",
    "But as mentioned earlier, to conclude that this is also applicable for the users, we need further analysis."
   ]
  },
  {
   "cell_type": "markdown",
   "metadata": {},
   "source": [
    "# Most Popular Apps to Users"
   ]
  },
  {
   "cell_type": "markdown",
   "metadata": {},
   "source": [
    "We'll calculate the average number of user ratings per app genre on the App Store. To do that, we'll need to do the following:\n",
    "\n",
    "- Isolate the apps of each genre\n",
    "- Add up the user ratings for the apps of that genre\n",
    "- Divide the sum by the number of apps belonging to that genre (not by the total number of apps)\n",
    "- To calculate the average number of user ratings for each genre, we'll use a for loop inside of another for loop. \n",
    "\n",
    "Let's start with the iOS data file. Because iOS does not have a designated install column, we use \n",
    "users review as a proxy to calculate the most popular apps."
   ]
  },
  {
   "cell_type": "code",
   "execution_count": 93,
   "metadata": {},
   "outputs": [
    {
     "name": "stdout",
     "output_type": "stream",
     "text": [
      "Social Networking: 71548.34905660378\n",
      "Photo & Video: 28441.54375\n",
      "Games: 22788.6696905016\n",
      "Music: 57326.530303030304\n",
      "Reference: 74942.11111111111\n",
      "Health & Fitness: 23298.015384615384\n",
      "Weather: 52279.892857142855\n",
      "Utilities: 18684.456790123455\n",
      "Travel: 28243.8\n",
      "Shopping: 26919.690476190477\n",
      "News: 21248.023255813954\n",
      "Navigation: 86090.33333333333\n",
      "Lifestyle: 16485.764705882353\n",
      "Entertainment: 14029.830708661417\n",
      "Food & Drink: 33333.92307692308\n",
      "Sports: 23008.898550724636\n",
      "Book: 39758.5\n",
      "Finance: 31467.944444444445\n",
      "Education: 7003.983050847458\n",
      "Productivity: 21028.410714285714\n",
      "Business: 7491.117647058823\n",
      "Catalogs: 4004.0\n",
      "Medical: 612.0\n",
      "\n",
      "\n",
      "App genre with maximum number of user's ratings: Navigation\n"
     ]
    }
   ],
   "source": [
    "ios_prime_genre = freq_table(final_ios, 11)\n",
    "maximum_ratings = 0\n",
    "max_number_dict = {}\n",
    "for a_gen in ios_prime_genre:\n",
    "    total = 0 # to store the sum of the number of actual ratings\n",
    "    len_gen = 0 # to store the number of apps specific to each genre\n",
    "    for a_row in final_ios:\n",
    "        genre_app = a_row[11]\n",
    "        if genre_app == a_gen:\n",
    "            total += float(a_row[5])\n",
    "            len_gen+= 1\n",
    "    average_ratings = total / len_gen\n",
    "    max_number_dict[a_gen] = average_ratings\n",
    "    print ('{}: {}'.format(a_gen, average_ratings))\n",
    "\n",
    "print('\\n')\n",
    "max_key = max(max_number_dict, key=max_number_dict.get)\n",
    "print(\"App genre with maximum number of user's ratings: {}\".format(max_key))"
   ]
  },
  {
   "cell_type": "markdown",
   "metadata": {},
   "source": [
    "So, we see that the Genre that received most of the users' ratings belongs to 'Navigation'. This is understandable as almost everyone nowadays uses navigation apps like Google Map, ways etc."
   ]
  },
  {
   "cell_type": "markdown",
   "metadata": {},
   "source": [
    "Because, the column number of install does not specify a numeric value, rather provides a range as shown below, and the output as string, we need to convert the string to numeric. We further consider the number rounded to it, e.g., 1000+ as 1000 and so on."
   ]
  },
  {
   "cell_type": "code",
   "execution_count": 94,
   "metadata": {},
   "outputs": [
    {
     "name": "stdout",
     "output_type": "stream",
     "text": [
      "1,000,000+ : 15.726534296028879\n",
      "100,000+ : 11.552346570397113\n",
      "10,000,000+ : 10.548285198555957\n",
      "10,000+ : 10.198555956678701\n",
      "1,000+ : 8.393501805054152\n",
      "100+ : 6.915613718411552\n",
      "5,000,000+ : 6.825361010830325\n",
      "500,000+ : 5.561823104693141\n",
      "50,000+ : 4.7721119133574\n",
      "5,000+ : 4.512635379061372\n",
      "10+ : 3.5424187725631766\n",
      "500+ : 3.2490974729241873\n",
      "50,000,000+ : 2.3014440433213\n",
      "100,000,000+ : 2.1322202166064983\n",
      "50+ : 1.917870036101083\n",
      "5+ : 0.78971119133574\n",
      "1+ : 0.5076714801444043\n",
      "500,000,000+ : 0.2707581227436823\n",
      "1,000,000,000+ : 0.22563176895306858\n",
      "0+ : 0.04512635379061372\n",
      "0 : 0.01128158844765343\n"
     ]
    }
   ],
   "source": [
    "display_table(final_android, 5)"
   ]
  },
  {
   "cell_type": "code",
   "execution_count": 101,
   "metadata": {},
   "outputs": [
    {
     "name": "stdout",
     "output_type": "stream",
     "text": [
      "ART_AND_DESIGN: 1986335.0877192982\n",
      "AUTO_AND_VEHICLES: 647317.8170731707\n",
      "BEAUTY: 513151.88679245283\n",
      "BOOKS_AND_REFERENCE: 8767811.894736841\n",
      "BUSINESS: 1712290.1474201474\n",
      "COMICS: 817657.2727272727\n",
      "COMMUNICATION: 38456119.167247385\n",
      "DATING: 854028.8303030303\n",
      "EDUCATION: 1833495.145631068\n",
      "ENTERTAINMENT: 11640705.88235294\n",
      "EVENTS: 253542.22222222222\n",
      "FINANCE: 1387692.475609756\n",
      "FOOD_AND_DRINK: 1924897.7363636363\n",
      "HEALTH_AND_FITNESS: 4188821.9853479853\n",
      "HOUSE_AND_HOME: 1331540.5616438356\n",
      "LIBRARIES_AND_DEMO: 638503.734939759\n",
      "LIFESTYLE: 1437816.2687861272\n",
      "GAME: 15588015.603248259\n",
      "FAMILY: 3695641.8198090694\n",
      "MEDICAL: 120550.61980830671\n",
      "SOCIAL: 23253652.127118643\n",
      "SHOPPING: 7036877.311557789\n",
      "PHOTOGRAPHY: 17840110.40229885\n",
      "SPORTS: 3638640.1428571427\n",
      "TRAVEL_AND_LOCAL: 13984077.710144928\n",
      "TOOLS: 10801391.298666667\n",
      "PERSONALIZATION: 5201482.6122448975\n",
      "PRODUCTIVITY: 16787331.344927534\n",
      "PARENTING: 542603.6206896552\n",
      "WEATHER: 5074486.197183099\n",
      "VIDEO_PLAYERS: 24727872.452830188\n",
      "NEWS_AND_MAGAZINES: 9549178.467741935\n",
      "MAPS_AND_NAVIGATION: 4056941.7741935486\n",
      "\n",
      "\n",
      "App genre with maximum number of install: COMMUNICATION\n"
     ]
    }
   ],
   "source": [
    "# let's get the categories for the android data-set\n",
    "android_category = freq_table(final_android, 1)\n",
    "max_avgInstall_dict = {}\n",
    "\n",
    "for a_category in android_category:\n",
    "    total = 0 # to store the sum of installs specific to each genre\n",
    "    len_category = 0 # to store the number of apps specific to each genre\n",
    "    for a_row in final_android:\n",
    "        category_app = a_row[1]\n",
    "        if category_app == a_category:\n",
    "            number_of_installs = a_row[5]\n",
    "            number_of_installs = number_of_installs.replace('+', '')\n",
    "            number_of_installs = number_of_installs.replace(',', '')\n",
    "            total+= float(number_of_installs)\n",
    "            len_category += 1\n",
    "            \n",
    "    average_number_install = total / len_category\n",
    "    max_avgInstall_dict[a_category] = average_number_install\n",
    "    print('{}: {}'.format(a_category, average_number_install))  \n",
    "print('\\n')\n",
    "max_key2 = max(max_avgInstall_dict, key=max_avgInstall_dict.get)\n",
    "print(\"App genre with maximum number of install: {}\".format(max_key2))"
   ]
  },
  {
   "cell_type": "markdown",
   "metadata": {},
   "source": [
    "From the above analysis, we found that the apps that belongs to the category 'Communication' has the highest number of installs from users. This is very much likely because of the popularity we see of social media apps, that also helps in communication like Facebook, whatsapp etc."
   ]
  },
  {
   "cell_type": "markdown",
   "metadata": {},
   "source": [
    "# Conclusion\n",
    "\n",
    "Based on our analysis of both datasets, to the best of our knowledge, we can conclude that developers should focus on apps that are related to Navigation (e.g., maps etc.) if they are targeting the iOS users. But if the android market is the focus, they should concentrate more on apps that help in communication (e.g., whatsapp, facebook etc.)."
   ]
  },
  {
   "cell_type": "markdown",
   "metadata": {},
   "source": []
  }
 ],
 "metadata": {
  "kernelspec": {
   "display_name": "Python 3",
   "language": "python",
   "name": "python3"
  },
  "language_info": {
   "codemirror_mode": {
    "name": "ipython",
    "version": 3
   },
   "file_extension": ".py",
   "mimetype": "text/x-python",
   "name": "python",
   "nbconvert_exporter": "python",
   "pygments_lexer": "ipython3",
   "version": "3.8.2"
  }
 },
 "nbformat": 4,
 "nbformat_minor": 2
}

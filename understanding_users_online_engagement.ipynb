{
 "cells": [
  {
   "cell_type": "markdown",
   "metadata": {
    "collapsed": true
   },
   "source": [
    "# POSTING ONLINE: ARE MY PEERS' VOLITIONAL ONLINE ENGAGEMENT TIME DEPENDENT?\n",
    "\n",
    "\n",
    "In this project, we'll work with a dataset of submissions to popular technology site Hacker News. Our aim is to understand when user's most engage in posts and how it affects the reach and success of a \n",
    "Hacker News is a site started by the startup incubator Y Combinator, where user-submitted stories (known as \"posts\") receive votes and comments, similar to reddit. Hacker News is extremely popular in technology and startup circles, and posts that make it to the top of the Hacker News listings can get hundreds of thousands of visitors as a result.\n",
    "\n",
    "You can find the data set [here](https://www.kaggle.com/hacker-news/hacker-news-posts). Below are descriptions of the columns:\n",
    "\n",
    "id: the unique identifier from Hacker News for the post\n",
    "<br>\n",
    "title: the title of the post\n",
    "<br>\n",
    "url: the URL that the posts links to, if the post has a URL\n",
    "<br>\n",
    "num_points: the number of points the post acquired, calculated as the total\n",
    "number of upvotes minus the total number of downvotes\n",
    "<br>\n",
    "num_comments: the number of comments on the post\n",
    "<br>\n",
    "author: the username of the person who submitted the post\n",
    "<br>\n",
    "created_at: the date and time of the post's submission"
   ]
  },
  {
   "cell_type": "code",
   "execution_count": 2,
   "metadata": {},
   "outputs": [
    {
     "name": "stdout",
     "output_type": "stream",
     "text": [
      "['id', 'title', 'url', 'num_points', 'num_comments', 'author', 'created_at'] \n",
      "\n",
      "['12224879', 'Interactive Dynamic Video', 'http://www.interactivedynamicvideo.com/', '386', '52', 'ne0phyte', '8/4/2016 11:52'] \n",
      "\n",
      "['10975351', 'How to Use Open Source and Shut the Fuck Up at the Same Time', 'http://hueniverse.com/2016/01/26/how-to-use-open-source-and-shut-the-fuck-up-at-the-same-time/', '39', '10', 'josep2', '1/26/2016 19:30'] \n",
      "\n",
      "['11964716', \"Florida DJs May Face Felony for April Fools' Water Joke\", 'http://www.thewire.com/entertainment/2013/04/florida-djs-april-fools-water-joke/63798/', '2', '1', 'vezycash', '6/23/2016 22:20'] \n",
      "\n",
      "['11919867', 'Technology ventures: From Idea to Enterprise', 'https://www.amazon.com/Technology-Ventures-Enterprise-Thomas-Byers/dp/0073523429', '3', '1', 'hswarna', '6/17/2016 0:01'] \n",
      "\n"
     ]
    }
   ],
   "source": [
    "# lET'S READ THE DATASET AND CHECK FIRST FEW ROWS\n",
    "from csv import reader \n",
    "\n",
    "hn = open(\"hacker_news.csv\")\n",
    "hn = reader(hn) # parse opened data \n",
    "hn = list(hn) # convert the data to a list\n",
    "for each_row in hn[:5]:\n",
    "    print(each_row, '\\n')"
   ]
  },
  {
   "cell_type": "code",
   "execution_count": 3,
   "metadata": {},
   "outputs": [
    {
     "name": "stdout",
     "output_type": "stream",
     "text": [
      "['id', 'title', 'url', 'num_points', 'num_comments', 'author', 'created_at']\n",
      "\n",
      "['12224879', 'Interactive Dynamic Video', 'http://www.interactivedynamicvideo.com/', '386', '52', 'ne0phyte', '8/4/2016 11:52']\n",
      "['10975351', 'How to Use Open Source and Shut the Fuck Up at the Same Time', 'http://hueniverse.com/2016/01/26/how-to-use-open-source-and-shut-the-fuck-up-at-the-same-time/', '39', '10', 'josep2', '1/26/2016 19:30']\n",
      "['11964716', \"Florida DJs May Face Felony for April Fools' Water Joke\", 'http://www.thewire.com/entertainment/2013/04/florida-djs-april-fools-water-joke/63798/', '2', '1', 'vezycash', '6/23/2016 22:20']\n",
      "['11919867', 'Technology ventures: From Idea to Enterprise', 'https://www.amazon.com/Technology-Ventures-Enterprise-Thomas-Byers/dp/0073523429', '3', '1', 'hswarna', '6/17/2016 0:01']\n",
      "['10301696', 'Note by Note: The Making of Steinway L1037 (2007)', 'http://www.nytimes.com/2007/11/07/movies/07stein.html?_r=0', '8', '2', 'walterbell', '9/30/2015 4:12']\n"
     ]
    }
   ],
   "source": [
    "# Let's seperate out the header information\n",
    "header = hn[:1][0]\n",
    "print(header)\n",
    "print()\n",
    "hn = hn[1:]\n",
    "for each_row in hn[:5]:\n",
    "    print(each_row)"
   ]
  },
  {
   "cell_type": "code",
   "execution_count": 4,
   "metadata": {},
   "outputs": [
    {
     "name": "stdout",
     "output_type": "stream",
     "text": [
      "Number of posts as ASK HN: 1744\n",
      "\n",
      "Number of posts as SHOW HN: 1162\n",
      "\n",
      "Number of posts from other categories: 17194\n"
     ]
    }
   ],
   "source": [
    "# let's Create three empty lists\n",
    "ask_posts = []\n",
    "show_posts = [] \n",
    "other_posts = []\n",
    "\n",
    "for each_row in hn:\n",
    "    title = each_row[1]\n",
    "    title = title.lower()\n",
    "    if title.startswith('ask hn'):\n",
    "        ask_posts.append(each_row)\n",
    "    elif title.startswith('show hn'):\n",
    "        show_posts.append(each_row)\n",
    "    else:\n",
    "        other_posts.append(each_row)\n",
    "print('Number of posts as ASK HN: {}'.format(len(ask_posts)))\n",
    "print()\n",
    "print('Number of posts as SHOW HN: {}'.format(len(show_posts)))\n",
    "print()\n",
    "print('Number of posts from other categories: {}'.format(len(other_posts)))"
   ]
  },
  {
   "cell_type": "code",
   "execution_count": 6,
   "metadata": {},
   "outputs": [
    {
     "name": "stdout",
     "output_type": "stream",
     "text": [
      "Average number of comments for ASK HN: 14.038417431192661\n",
      "Average number of comments for SHOW HN: 10.31669535283993\n"
     ]
    }
   ],
   "source": [
    "total_ask_comments = 0\n",
    "for post in ask_posts:\n",
    "    Num_comment = post[4]\n",
    "    Num_comment = int(Num_comment)\n",
    "    total_ask_comments += Num_comment\n",
    "avg_ask_comments = total_ask_comments/ len(ask_posts)\n",
    "print('Average number of comments for ASK HN: {}'.format(avg_ask_comments))\n",
    "\n",
    "# Now calculate the average number of comments for the show post\n",
    "total_show_comments = 0\n",
    "for post in show_posts:\n",
    "    Num_comment2 = post[4]\n",
    "    Num_comment2 = int(Num_comment2)\n",
    "    total_show_comments += Num_comment2\n",
    "avg_show_comments = total_show_comments/ len(show_posts)\n",
    "print('Average number of comments for SHOW HN: {}'.format(avg_show_comments))"
   ]
  },
  {
   "cell_type": "markdown",
   "metadata": {},
   "source": [
    "Looking into the average values for both ASK HN and SHOW HN posts, it's obvious that posts under the catagory of ASK HN receives on average more comments than the SHOW HN catagory. One reason can be that people in platforms like this, tends to demonstrate their personal skills, or understanding rather than looking into other's projects. This might influence users to engage in replying and responding to other's questions, because it gives an opportunity to exercise personal opinions, and skills. \n",
    "But looking into someone else's project requires several things, it should be interesting to the person to go and check it. Moreover, to comment on a project, you'll need to go through a full project to comment about it. People tend avoid investing so much time unless the project is so interesting that it excites him."
   ]
  },
  {
   "cell_type": "markdown",
   "metadata": {},
   "source": [
    "So, on average, ask posts receive more comments than show posts. Since ask posts are more likely to receive comments, we'll focus our remaining analysis just on these posts.\n",
    "\n",
    "Next, we'll determine if ask posts created at a certain time are more likely to attract comments. We'll use the following steps to perform this analysis:\n",
    "\n",
    "We'll calculate the number of ask posts created in each hour of the day, along with the number of comments received.\n",
    "we then calculate the average number of comments ask posts receive by hour created."
   ]
  },
  {
   "cell_type": "code",
   "execution_count": 7,
   "metadata": {},
   "outputs": [
    {
     "name": "stdout",
     "output_type": "stream",
     "text": [
      "['8/16/2016 9:55', 6]\n",
      "['11/22/2015 13:43', 29]\n",
      "['5/2/2016 10:14', 1]\n"
     ]
    }
   ],
   "source": [
    "# Let's calculate the number of ask posts and comments by hour created. \n",
    "# We'll use the datetime module to work with the data in the created_at column.\n",
    "\n",
    "# First prepare a list of list with two elements in each; date and number of comments\n",
    "import datetime as dt\n",
    "result_list = []\n",
    "for post in ask_posts:\n",
    "    result_list.append([post[6], int(post[4])])\n",
    "# Let's check if we got the list correctly. \n",
    "for element in result_list[:3]:\n",
    "    print (element)\n",
    "    \n",
    "# Create two empty dictionaries to generate a frequency of hourly comments\n",
    "counts_by_hour = {}\n",
    "comments_by_hour = {}\n",
    "for element in result_list:\n",
    "    time = element[0]\n",
    "    datetime_object = dt.datetime.strptime(time, \"%m/%d/%Y %H:%M\")\n",
    "    hour = datetime_object.strftime(\"%H\")\n",
    "    if hour not in counts_by_hour:\n",
    "        counts_by_hour[hour] = 1\n",
    "        comments_by_hour[hour] = element[1]\n",
    "    else:\n",
    "        counts_by_hour[hour] += 1\n",
    "        comments_by_hour[hour] += element[1]     \n"
   ]
  },
  {
   "cell_type": "markdown",
   "metadata": {},
   "source": [
    "Above, we created two dictionaries:\n",
    "\n",
    "counts_by_hour: contains the number of ask posts created during each hour of the day.\n",
    "comments_by_hour: contains the corresponding number of comments ask posts created at each hour received.\n",
    "Next, we'll use these two dictionaries to calculate the average number of comments for posts created during each hour of the day."
   ]
  },
  {
   "cell_type": "code",
   "execution_count": 8,
   "metadata": {},
   "outputs": [
    {
     "name": "stdout",
     "output_type": "stream",
     "text": [
      "[38.5948275862069, '15']\n",
      "[23.810344827586206, '02']\n",
      "[21.525, '20']\n",
      "[16.796296296296298, '16']\n",
      "[16.009174311926607, '21']\n",
      "[14.741176470588234, '13']\n",
      "[13.440677966101696, '10']\n",
      "[13.233644859813085, '14']\n",
      "[13.20183486238532, '18']\n",
      "[11.46, '17']\n",
      "[11.383333333333333, '01']\n",
      "[11.051724137931034, '11']\n",
      "[10.8, '19']\n",
      "[10.25, '08']\n",
      "[10.08695652173913, '05']\n",
      "[9.41095890410959, '12']\n",
      "[9.022727272727273, '06']\n",
      "[8.127272727272727, '00']\n",
      "[7.985294117647059, '23']\n",
      "[7.852941176470588, '07']\n",
      "[7.796296296296297, '03']\n",
      "[7.170212765957447, '04']\n",
      "[6.746478873239437, '22']\n",
      "[5.5777777777777775, '09']\n"
     ]
    }
   ],
   "source": [
    "# Let's calculate the average number of comments per post for posts created during each hour of the day.\n",
    "avg_by_hour = []\n",
    "\n",
    "for comment_hour in counts_by_hour:\n",
    "    avg_by_hour.append([comment_hour, (comments_by_hour[comment_hour])/counts_by_hour[comment_hour]])\n",
    "\n",
    "# print the result as sorted by average comments\n",
    "#from operator import itemgetter\n",
    "swap_avg_by_hour = []\n",
    "for element in avg_by_hour:\n",
    "    swap_avg_by_hour.append([element[1], element[0]])\n",
    "\n",
    "sorted_swap = sorted(swap_avg_by_hour, reverse = True)\n",
    "# check if the list has been correctly sorted\n",
    "for element in sorted_swap:\n",
    "    print (element)  "
   ]
  },
  {
   "cell_type": "code",
   "execution_count": 9,
   "metadata": {
    "scrolled": true
   },
   "outputs": [
    {
     "name": "stdout",
     "output_type": "stream",
     "text": [
      "Top 5 Hours for Ask Posts Comments\n",
      "15:00: 38.59 average comments per post\n",
      "02:00: 23.81 average comments per post\n",
      "20:00: 21.52 average comments per post\n",
      "16:00: 16.80 average comments per post\n",
      "21:00: 16.01 average comments per post\n"
     ]
    }
   ],
   "source": [
    "print(\"Top 5 Hours for Ask Posts Comments\")\n",
    "for element in sorted_swap[:5]:\n",
    "    the_average = element[0]\n",
    "    the_hour = element[1]\n",
    "    the_hour = dt.datetime.strptime(the_hour, \"%H\").strftime(\"%H:%M\")\n",
    "    print(\"{}: {:.2f} average comments per post\".format(the_hour, the_average))"
   ]
  },
  {
   "cell_type": "markdown",
   "metadata": {},
   "source": [
    "Looking into the results of our analysis, we can easily identify the hours when most of the posts received on average higher reach, i.e., comments. So, if someone is interested in reaching more users, he should post in the above 5 hours and especially in the evening at around 3 pm or in the night at around 02.00 am. Because most users stay online at these hours. \n",
    "# Next, we'll try to determine if show or ask posts receive more points on average"
   ]
  },
  {
   "cell_type": "markdown",
   "metadata": {},
   "source": [
    "data set description:\n",
    "['id', 'title', 'url', 'num_points', 'num_comments', 'author', 'created_at'] "
   ]
  },
  {
   "cell_type": "code",
   "execution_count": 10,
   "metadata": {},
   "outputs": [
    {
     "name": "stdout",
     "output_type": "stream",
     "text": [
      "Average number of points for ASK HN: 15.061926605504587\n",
      "Average number of points for SHOW HN: 10.31669535283993\n"
     ]
    }
   ],
   "source": [
    "total_ask_points = 0\n",
    "for post in ask_posts:\n",
    "    Num_points = post[3]\n",
    "    Num_points = int(Num_points)\n",
    "    total_ask_points += Num_points\n",
    "    \n",
    "avg_ask_points = total_ask_points/ len(ask_posts)\n",
    "print('Average number of points for ASK HN: {}'.format(avg_ask_points))\n",
    "\n",
    "# Now calculate the average number of comments for the show post\n",
    "total_show_points = 0\n",
    "for post in show_posts:\n",
    "    Num_points2 = post[3]\n",
    "    Num_points2 = int(Num_points2)\n",
    "    total_show_points += Num_points2\n",
    "avg_show_points = total_show_points/ len(show_posts)\n",
    "print('Average number of points for SHOW HN: {}'.format(avg_show_comments))"
   ]
  },
  {
   "cell_type": "markdown",
   "metadata": {},
   "source": [
    "As evident from the result above, like comments, post that were formed as questions received more points than the show type posts.\n",
    "### Now, we'll determine if posts created at a certain time are more likely to receive more points."
   ]
  },
  {
   "cell_type": "code",
   "execution_count": 13,
   "metadata": {},
   "outputs": [
    {
     "name": "stdout",
     "output_type": "stream",
     "text": [
      "Top 5 Hours for Ask Posts points\n",
      "15:00: 29.99 average points per post\n",
      "13:00: 24.26 average points per post\n",
      "16:00: 23.35 average points per post\n",
      "17:00: 19.41 average points per post\n",
      "10:00: 18.68 average points per post\n"
     ]
    }
   ],
   "source": [
    "# Let's calculate the number of ask posts and points by hour created. \n",
    "# We'll use the datetime module to work with the data in the created_at column.\n",
    "\n",
    "# First prepare a list of list with two elements in each; date and number of points\n",
    "import datetime as dt\n",
    "result_list = []\n",
    "for post in ask_posts:\n",
    "    result_list.append([post[6], int(post[3])])\n",
    "\n",
    "# Create two empty dictionaries to generate a frequency of hourly points\n",
    "counts_by_hour = {}\n",
    "points_by_hour = {}\n",
    "for element in result_list:\n",
    "    time = element[0]\n",
    "    datetime_object = dt.datetime.strptime(time, \"%m/%d/%Y %H:%M\")\n",
    "    hour = datetime_object.strftime(\"%H\")\n",
    "    if hour not in counts_by_hour:\n",
    "        counts_by_hour[hour] = 1\n",
    "        points_by_hour[hour] = element[1]\n",
    "    else:\n",
    "        counts_by_hour[hour] += 1\n",
    "        points_by_hour[hour] += element[1]  \n",
    "\n",
    "# Let's calculate the average number of comments per post for posts created during each hour of the day.\n",
    "avg_by_hour = []\n",
    "\n",
    "for point_hour in counts_by_hour:\n",
    "    avg_by_hour.append([point_hour, (points_by_hour[point_hour])/counts_by_hour[point_hour]])\n",
    "\n",
    "# print the result as sorted by average comments\n",
    "#from operator import itemgetter\n",
    "swap_avg_by_hour = []\n",
    "for element in avg_by_hour:\n",
    "    swap_avg_by_hour.append([element[1], element[0]])\n",
    "\n",
    "sorted_swap = sorted(swap_avg_by_hour, reverse = True)\n",
    "\n",
    "#print(\"__________________________________________________________________________________________\")\n",
    "print(\"Top 5 Hours for Ask Posts points\")\n",
    "for element in sorted_swap[:5]:\n",
    "    the_average = element[0]\n",
    "    the_hour = element[1]\n",
    "    the_hour = dt.datetime.strptime(the_hour, \"%H\").strftime(\"%H:%M\")\n",
    "    print(\"{}: {:.2f} average points per post\".format(the_hour, the_average))\n"
   ]
  },
  {
   "cell_type": "markdown",
   "metadata": {},
   "source": [
    "From our above analysis, we can easily determine that people are more engaged in their volutional online activities at the evening, usually after 2 pm to 6 pm. This is interesting becuase most of the offices close after 5 pm or the earliest at 4 pm. Our results indicate that many people after their lunch break tend to spend time in less stressful or less mentally demanding activities. Does it imply that companies and businesses better start their offices rather very early, maybe at 6 am and close it after 2 pm? That would be something very interesting.   "
   ]
  }
 ],
 "metadata": {
  "kernelspec": {
   "display_name": "Python 3",
   "language": "python",
   "name": "python3"
  },
  "language_info": {
   "codemirror_mode": {
    "name": "ipython",
    "version": 3
   },
   "file_extension": ".py",
   "mimetype": "text/x-python",
   "name": "python",
   "nbconvert_exporter": "python",
   "pygments_lexer": "ipython3",
   "version": "3.8.2"
  }
 },
 "nbformat": 4,
 "nbformat_minor": 2
}
